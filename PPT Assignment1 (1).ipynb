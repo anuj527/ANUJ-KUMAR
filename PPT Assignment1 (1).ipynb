{
 "cells": [
  {
   "cell_type": "code",
   "execution_count": null,
   "id": "b729b1d9",
   "metadata": {},
   "outputs": [],
   "source": [
    "**Q1.** Given an array of integers nums and an integer target, return indices of the two numbers such that they add up to target.\n",
    "\n",
    "You may assume that each input would have exactly one solution, and you may not use the same element twice.\n",
    "\n",
    "You can return the answer in any order.\n",
    "\n",
    "**Example:**\n",
    "Input: nums = [2,7,11,15], target = 9\n",
    "Output0 [0,1]\n",
    "\n",
    "**Explanation:** Because nums[0] + nums[1] == 9, we return [0, 1]\n"
   ]
  },
  {
   "cell_type": "code",
   "execution_count": null,
   "id": "2281ee53",
   "metadata": {},
   "outputs": [],
   "source": [
    "def add_up(nums, target):\n",
    "    # Create a dictionary to store the complement and its index\n",
    "    complement_map = {}\n",
    "\n",
    "    # Iterate through each element in the array\n",
    "    for i in range (len(nums)):\n",
    "        \n",
    "        complement = target - nums[i]\n",
    "        if complement in complement_map:\n",
    "            # If the complement exists in the dictionary, return its index and the current index\n",
    "            return [complement_map[complement], i]\n",
    "        else:\n",
    "            # Store the current element and its index in the dictionary\n",
    "            complement_map[nums[i]] = i\n",
    "\n",
    "\n",
    "    # If no solution is found, return an empty list\n",
    "    return []"
   ]
  },
  {
   "cell_type": "code",
   "execution_count": null,
   "id": "059c3b11",
   "metadata": {},
   "outputs": [],
   "source": [
    "add_up([2,7,11,15],9)"
   ]
  },
  {
   "cell_type": "code",
   "execution_count": null,
   "id": "6e89d069",
   "metadata": {},
   "outputs": [],
   "source": [
    " **Q2.** Given an integer array nums and an integer val, remove all occurrences of val in nums in-place. The order of the elements may be changed. Then return the number of elements in nums which are not equal to val.\n",
    "\n",
    "Consider the number of elements in nums which are not equal to val be k, to get accepted, you need to do the following things:\n",
    "\n",
    "- Change the array nums such that the first k elements of nums contain the elements which are not equal to val. The remaining elements of nums are not important as well as the size of nums.\n",
    "- Return k.\n",
    "\n",
    "**Example :**\n",
    "Input: nums = [3,2,2,3], val = 3\n",
    "Output: 2, nums = [2,2,_,_]\n",
    "\n",
    "**Explanation:** Your function should return k = 2, with the first two elements of nums being 2. It does not matter what you leave beyond the returned k (hence they are underscores)"
   ]
  },
  {
   "cell_type": "code",
   "execution_count": null,
   "id": "dd25fe51",
   "metadata": {},
   "outputs": [],
   "source": [
    "def remove_val(nums,val):\n",
    "    k=0\n",
    "    for i in range(len(nums)):\n",
    "        if nums[i]!=val:\n",
    "            nums[k]=nums[i]\n",
    "            k+=1\n",
    "    return k      \n",
    "    "
   ]
  },
  {
   "cell_type": "code",
   "execution_count": null,
   "id": "67d2ac8a",
   "metadata": {},
   "outputs": [],
   "source": [
    "remove_val([3,2,2,3],3)"
   ]
  },
  {
   "cell_type": "code",
   "execution_count": null,
   "id": "162d6610",
   "metadata": {},
   "outputs": [],
   "source": [
    "💡 **Q3.** Given a sorted array of distinct integers and a target value, return the index if the target is found. If not, return the index where it would be if it were inserted in order.\n",
    "\n",
    "You must write an algorithm with O(log n) runtime complexity.\n",
    "\n",
    "**Example 1:**\n",
    "Input: nums = [1,3,5,6], target = 5\n",
    "\n",
    "Output: 2\n"
   ]
  },
  {
   "cell_type": "code",
   "execution_count": null,
   "id": "19682e7c",
   "metadata": {},
   "outputs": [],
   "source": [
    "def  target_index(nums,target):\n",
    "    left=0\n",
    "    right=len(nums)\n",
    "\n",
    "    while left < right:\n",
    "        middle=(left+right)//2\n",
    "        if nums[middle]< target:\n",
    "            left=middle+1\n",
    "        else:\n",
    "            right=middle\n",
    "            \n",
    "    return left\n",
    "    \n",
    "    "
   ]
  },
  {
   "cell_type": "code",
   "execution_count": null,
   "id": "546862bd",
   "metadata": {},
   "outputs": [],
   "source": [
    "target_index([1,3,5,6],5)"
   ]
  },
  {
   "cell_type": "code",
   "execution_count": null,
   "id": "47916639",
   "metadata": {},
   "outputs": [],
   "source": [
    "\n",
    "💡 **Q4.** You are given a large integer represented as an integer array digits, where each digits[i] is the ith digit of the integer. The digits are ordered from most significant to least significant in left-to-right order. The large integer does not contain any leading 0's.\n",
    "\n",
    "Increment the large integer by one and return the resulting array of digits.\n",
    "\n",
    "**Example 1:**\n",
    "Input: digits = [1,2,3]\n",
    "Output: [1,2,4]\n",
    "\n",
    "**Explanation:** The array represents the integer 123.\n",
    "\n",
    "Incrementing by one gives 123 + 1 = 124.\n",
    "Thus, the result should be [1,2,4].\n"
   ]
  },
  {
   "cell_type": "code",
   "execution_count": null,
   "id": "9ce30b40",
   "metadata": {},
   "outputs": [],
   "source": [
    "Answer:1\n",
    "def incerement_one(nums):\n",
    "    temp=\"\"\n",
    "    for i in nums:\n",
    "        temp=temp+str(i)\n",
    "    nums=int(temp)+1\n",
    "    temp=[]\n",
    "    for i in str(nums):\n",
    "        temp.append(int(i))\n",
    "    return temp"
   ]
  },
  {
   "cell_type": "code",
   "execution_count": null,
   "id": "8ab6c84f",
   "metadata": {},
   "outputs": [],
   "source": [
    "incerement_one([1,2,3])"
   ]
  },
  {
   "cell_type": "code",
   "execution_count": null,
   "id": "e089f600",
   "metadata": {},
   "outputs": [],
   "source": [
    "Answer:2\n",
    "def add_one(nums): \n",
    "    for i in range(len(nums)-1,-1,-1):\n",
    "        if nums[i]<9:\n",
    "            nums[i]=nums[i]+1\n",
    "            return nums\n",
    "        else:\n",
    "            nums[i]=0\n",
    "            \n",
    "    return [1]+nums\n"
   ]
  },
  {
   "cell_type": "code",
   "execution_count": null,
   "id": "d3f3c939",
   "metadata": {},
   "outputs": [],
   "source": [
    "add_one([9,9,9])"
   ]
  },
  {
   "cell_type": "code",
   "execution_count": null,
   "id": "d9d55134",
   "metadata": {},
   "outputs": [],
   "source": [
    "\n",
    "💡 **Q5.** You are given two integer arrays nums1 and nums2, sorted in non-decreasing order, and two integers m and n, representing the number of elements in nums1 and nums2 respectively.\n",
    "\n",
    "Merge nums1 and nums2 into a single array sorted in non-decreasing order.\n",
    "\n",
    "The final sorted array should not be returned by the function, but instead be stored inside the array nums1. To accommodate this, nums1 has a length of m + n, where the first m elements denote the elements that should be merged, and the last n elements are set to 0 and should be ignored. nums2 has a length of n.\n",
    "\n",
    "**Example 1:**\n",
    "Input: nums1 = [1,2,3,0,0,0], m = 3, nums2 = [2,5,6], n = 3\n",
    "Output: [1,2,2,3,5,6]\n",
    "\n",
    "**Explanation:** The arrays we are merging are [1,2,3] and [2,5,6].\n",
    "The result of the merge is [1,2,2,3,5,6] with the underlined elements coming from nums1\n"
   ]
  },
  {
   "cell_type": "code",
   "execution_count": 8,
   "id": "f95960a8",
   "metadata": {},
   "outputs": [],
   "source": [
    "def merger(nums1,m,nums2,n):\n",
    "    i=m-1\n",
    "    j=n-1\n",
    "    k=m+n-1\n",
    "    while i>=0 and j>=0:\n",
    "        if nums1[i]>nums1[j]:\n",
    "            nums1[k]=nums1[i]\n",
    "            i-=1\n",
    "        else:\n",
    "            nums1[k]=nums2[j]\n",
    "            j-=1\n",
    "        k-=1    \n",
    "        \n",
    "    while j>=0:\n",
    "        nums1[k]=nums2[j]\n",
    "        j-=1\n",
    "        k-=1\n",
    "    return nums1"
   ]
  },
  {
   "cell_type": "code",
   "execution_count": 9,
   "id": "19a043f1",
   "metadata": {},
   "outputs": [
    {
     "data": {
      "text/plain": [
       "[1, 2, 2, 5, 3, 6]"
      ]
     },
     "execution_count": 9,
     "metadata": {},
     "output_type": "execute_result"
    }
   ],
   "source": [
    "merger([1,2,3,0,0,0],3,[2,5,6],3)"
   ]
  },
  {
   "cell_type": "code",
   "execution_count": null,
   "id": "aeb34112",
   "metadata": {},
   "outputs": [],
   "source": [
    "💡**Q6.** Given an integer array nums, return true if any value appears at least twice in the array, and return false if every element is distinct.\n",
    "\n",
    "**Example 1:**\n",
    "Input: nums = [1,2,3,1]\n",
    "\n",
    "Output: true"
   ]
  },
  {
   "cell_type": "code",
   "execution_count": 28,
   "id": "2b85aa32",
   "metadata": {},
   "outputs": [],
   "source": [
    "def check_repeat(num_list):\n",
    "    k=1\n",
    "    for i in range(len(num_list)):\n",
    "        if num_list[i] in (num_list[i:]):\n",
    "            k+=1\n",
    "        if k>=2:\n",
    "            return print(\"true\")\n",
    "        else:\n",
    "            return print(\"false\")"
   ]
  },
  {
   "cell_type": "code",
   "execution_count": 29,
   "id": "431ed72e",
   "metadata": {},
   "outputs": [
    {
     "name": "stdout",
     "output_type": "stream",
     "text": [
      "true\n"
     ]
    }
   ],
   "source": [
    "check_repeat([1,2,3,1])"
   ]
  },
  {
   "cell_type": "code",
   "execution_count": 21,
   "id": "c121cf4f",
   "metadata": {},
   "outputs": [],
   "source": [
    "\n",
    "💡 **Q7.** Given an integer array nums, move all 0's to the end of it while maintaining the relative order of the nonzero elements.\n",
    "\n",
    "Note that you must do this in-place without making a copy of the array.\n",
    "\n",
    "**Example 1:**\n",
    "Input: nums = [0,1,0,3,12]\n",
    "Output: [1,3,12,0,0]"
   ]
  },
  {
   "cell_type": "code",
   "execution_count": 67,
   "id": "01437cdb",
   "metadata": {},
   "outputs": [],
   "source": [
    "def move_zero(nums):\n",
    "    i=0\n",
    "    for j in nums:\n",
    "        if j!=0:\n",
    "            nums[i]=j\n",
    "            i+=1\n",
    "    for j in range(i,len(nums)):\n",
    "        nums[j]=0\n",
    "    \n",
    "    return nums"
   ]
  },
  {
   "cell_type": "code",
   "execution_count": 68,
   "id": "086603b4",
   "metadata": {},
   "outputs": [
    {
     "data": {
      "text/plain": [
       "[1, 3, 12, 0, 0]"
      ]
     },
     "execution_count": 68,
     "metadata": {},
     "output_type": "execute_result"
    }
   ],
   "source": [
    "move_zero()"
   ]
  },
  {
   "cell_type": "code",
   "execution_count": null,
   "id": "0e88ffd2",
   "metadata": {},
   "outputs": [],
   "source": [
    "# 💡 **Q8.** You have a set of integers s, which originally contains all the numbers from 1 to n. Unfortunately, due to some error, one of the numbers in s got duplicated to another number in the set, which results in repetition of one number and loss of another number.\n",
    "\n",
    "You are given an integer array nums representing the data status of this set after the error.\n",
    "\n",
    "Find the number that occurs twice and the number that is missing and return them in the form of an array.\n",
    "\n",
    "**Example 1:**\n",
    "Input: nums = [1,2,2,4]\n",
    "Output: [2,3]"
   ]
  },
  {
   "cell_type": "code",
   "execution_count": 90,
   "id": "c4326986",
   "metadata": {},
   "outputs": [],
   "source": [
    "def missing(nums):\n",
    "    n = len(nums)\n",
    "    total_sum = (n * (n + 1)) // 2\n",
    "    nums_sum = sum(nums)\n",
    "    duplicate_num = nums_sum - sum(set(nums))\n",
    "    missing_num = total_sum - nums_sum + duplicate_num\n",
    "    return [duplicate_num, missing_num]\n"
   ]
  },
  {
   "cell_type": "code",
   "execution_count": 91,
   "id": "0702cf5c",
   "metadata": {},
   "outputs": [
    {
     "data": {
      "text/plain": [
       "[2, 3]"
      ]
     },
     "execution_count": 91,
     "metadata": {},
     "output_type": "execute_result"
    }
   ],
   "source": [
    "missing([1,2,2,4])"
   ]
  },
  {
   "cell_type": "code",
   "execution_count": null,
   "id": "7819ef19",
   "metadata": {},
   "outputs": [],
   "source": []
  }
 ],
 "metadata": {
  "kernelspec": {
   "display_name": "Python 3 (ipykernel)",
   "language": "python",
   "name": "python3"
  },
  "language_info": {
   "codemirror_mode": {
    "name": "ipython",
    "version": 3
   },
   "file_extension": ".py",
   "mimetype": "text/x-python",
   "name": "python",
   "nbconvert_exporter": "python",
   "pygments_lexer": "ipython3",
   "version": "3.9.13"
  }
 },
 "nbformat": 4,
 "nbformat_minor": 5
}
