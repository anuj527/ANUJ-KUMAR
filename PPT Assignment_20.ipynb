{
 "cells": [
  {
   "cell_type": "code",
   "execution_count": null,
   "id": "2190d0f6",
   "metadata": {},
   "outputs": [],
   "source": [
    "Question-1\n",
    "\n",
    "Given a binary tree, your task is to find subtree with maximum sum in tree.\n"
   ]
  },
  {
   "cell_type": "code",
   "execution_count": 1,
   "id": "88b88a21",
   "metadata": {},
   "outputs": [
    {
     "name": "stdout",
     "output_type": "stream",
     "text": [
      "Maximum subtree sum: 1\n"
     ]
    }
   ],
   "source": [
    "# Definition for a binary tree node\n",
    "class TreeNode:\n",
    "    def __init__(self, val=0, left=None, right=None):\n",
    "        self.val = val\n",
    "        self.left = left\n",
    "        self.right = right\n",
    "\n",
    "\n",
    "def find_max_subtree_sum(root):\n",
    "    max_sum = float('-inf')  # Initialize the maximum sum as negative infinity\n",
    "    max_subtree = None  # Initialize the subtree with maximum sum as None\n",
    "\n",
    "    def subtree_sum(node):\n",
    "        nonlocal max_sum, max_subtree\n",
    "\n",
    "        if node is None:\n",
    "            return 0\n",
    "\n",
    "        # Calculate the sum of the left and right subtrees recursively\n",
    "        left_sum = subtree_sum(node.left)\n",
    "        right_sum = subtree_sum(node.right)\n",
    "\n",
    "        # Calculate the sum of the current subtree\n",
    "        current_sum = node.val + left_sum + right_sum\n",
    "\n",
    "        # Update the maximum sum and subtree if the current subtree sum is greater\n",
    "        if current_sum > max_sum:\n",
    "            max_sum = current_sum\n",
    "            max_subtree = node\n",
    "\n",
    "        # Return the sum of the current subtree\n",
    "        return current_sum\n",
    "\n",
    "    subtree_sum(root)  # Start the recursion from the root node\n",
    "    return max_subtree\n",
    "\n",
    "\n",
    "root = TreeNode(1)\n",
    "root.left = TreeNode(2)\n",
    "root.right = TreeNode(3)\n",
    "root.left.left = TreeNode(4)\n",
    "root.left.right = TreeNode(5)\n",
    "root.right.right = TreeNode(6)\n",
    "root.left.right.right = TreeNode(7)\n",
    "\n",
    "max_subtree = find_max_subtree_sum(root)\n",
    "print(\"Maximum subtree sum:\", max_subtree.val)\n"
   ]
  },
  {
   "cell_type": "code",
   "execution_count": null,
   "id": "dfea027c",
   "metadata": {},
   "outputs": [],
   "source": [
    "\n",
    "💡 Question-2\n",
    "\n",
    "Construct the BST (Binary Search Tree) from its given level order traversal.\n",
    "\n",
    "Example:\n",
    "\n",
    "Input: arr[] = {7, 4, 12, 3, 6, 8, 1, 5, 10}\n",
    "\n"
   ]
  },
  {
   "cell_type": "code",
   "execution_count": 5,
   "id": "cafe3855",
   "metadata": {},
   "outputs": [
    {
     "name": "stdout",
     "output_type": "stream",
     "text": [
      "Inorder traversal of constructed BST:\n",
      "5 3 10 4 6 7 8 12 1 "
     ]
    }
   ],
   "source": [
    "# Definition for a binary tree node\n",
    "class TreeNode:\n",
    "    def __init__(self, val=0, left=None, right=None):\n",
    "        self.val = val\n",
    "        self.left = left\n",
    "        self.right = right\n",
    "\n",
    "\n",
    "def construct_bst(level_order):\n",
    "    if not level_order:\n",
    "        return None\n",
    "\n",
    "    root = TreeNode(level_order[0])\n",
    "    queue = [root]\n",
    "    index = 1\n",
    "\n",
    "    while queue:\n",
    "        node = queue.pop(0)\n",
    "\n",
    "        if index < len(level_order):\n",
    "            left_val = level_order[index]\n",
    "            if left_val is not None:\n",
    "                node.left = TreeNode(left_val)\n",
    "                queue.append(node.left)\n",
    "            index += 1\n",
    "\n",
    "        if index < len(level_order):\n",
    "            right_val = level_order[index]\n",
    "            if right_val is not None:\n",
    "                node.right = TreeNode(right_val)\n",
    "                queue.append(node.right)\n",
    "            index += 1\n",
    "\n",
    "    return root\n",
    "\n",
    "\n",
    "# Test the code\n",
    "level_order_traversal =[7, 4, 12, 3, 6, 8, 1, 5, 10]\n",
    "root = construct_bst(level_order_traversal)\n",
    "\n",
    "# Function to print the inorder traversal of the BST\n",
    "def inorder_traversal(node):\n",
    "    if node is not None:\n",
    "        inorder_traversal(node.left)\n",
    "        print(node.val, end=' ')\n",
    "        inorder_traversal(node.right)\n",
    "\n",
    "\n",
    "print(\"Inorder traversal of constructed BST:\")\n",
    "inorder_traversal(root)\n"
   ]
  },
  {
   "cell_type": "code",
   "execution_count": null,
   "id": "01a8dcab",
   "metadata": {},
   "outputs": [],
   "source": [
    "\n",
    "💡 Question-3\n",
    "\n",
    "Given an array of size n. The problem is to check whether the given array can represent the level order traversal of a Binary Search Tree or not.\n"
   ]
  },
  {
   "cell_type": "code",
   "execution_count": 6,
   "id": "a6828cbe",
   "metadata": {},
   "outputs": [
    {
     "name": "stdout",
     "output_type": "stream",
     "text": [
      "Can represent level order traversal of BST? False\n",
      "Can represent level order traversal of BST? False\n"
     ]
    }
   ],
   "source": [
    "def is_level_order_bst(arr):\n",
    "    if len(arr) <= 1:\n",
    "        return True\n",
    "\n",
    "    left_child = []\n",
    "    right_child = []\n",
    "\n",
    "    for i in range(1, len(arr)):\n",
    "        if arr[i] < arr[0]:\n",
    "            left_child.append(arr[i])\n",
    "        else:\n",
    "            right_child = arr[i:]\n",
    "            break\n",
    "\n",
    "    for num in left_child:\n",
    "        if num >= arr[0]:\n",
    "            return False\n",
    "\n",
    "    for num in right_child:\n",
    "        if num <= arr[0]:\n",
    "            return False\n",
    "\n",
    "    return is_level_order_bst(left_child) and is_level_order_bst(right_child)\n",
    "\n",
    "\n",
    "# Test the code\n",
    "# Example 1\n",
    "arr1 = [7, 4, 12, 3, 6, 8, 1, 5, 10]\n",
    "print(\"Can represent level order traversal of BST?\", is_level_order_bst(arr1))\n",
    "# Expected output: True\n",
    "\n",
    "# Example 2\n",
    "arr2 = [11, 6, 13, 5, 8, 12, 15]\n",
    "print(\"Can represent level order traversal of BST?\", is_level_order_bst(arr2))\n",
    "# Expected output: False\n"
   ]
  },
  {
   "cell_type": "code",
   "execution_count": null,
   "id": "4f0a40c8",
   "metadata": {},
   "outputs": [],
   "source": []
  }
 ],
 "metadata": {
  "kernelspec": {
   "display_name": "Python 3 (ipykernel)",
   "language": "python",
   "name": "python3"
  },
  "language_info": {
   "codemirror_mode": {
    "name": "ipython",
    "version": 3
   },
   "file_extension": ".py",
   "mimetype": "text/x-python",
   "name": "python",
   "nbconvert_exporter": "python",
   "pygments_lexer": "ipython3",
   "version": "3.9.13"
  }
 },
 "nbformat": 4,
 "nbformat_minor": 5
}
